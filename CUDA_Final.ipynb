{
  "nbformat": 4,
  "nbformat_minor": 0,
  "metadata": {
    "colab": {
      "provenance": [],
      "gpuType": "T4"
    },
    "kernelspec": {
      "name": "python3",
      "display_name": "Python 3"
    },
    "language_info": {
      "name": "python"
    },
    "accelerator": "GPU"
  },
  "cells": [
    {
      "cell_type": "code",
      "source": [
        "!pip install git+https://github.com/afnan47/cuda.git\n"
      ],
      "metadata": {
        "colab": {
          "base_uri": "https://localhost:8080/"
        },
        "id": "S1iBVyLreQP_",
        "outputId": "108e3dc7-769a-4fcf-dde8-66a491fdc03a"
      },
      "execution_count": 6,
      "outputs": [
        {
          "output_type": "stream",
          "name": "stdout",
          "text": [
            "Collecting git+https://github.com/afnan47/cuda.git\n",
            "  Cloning https://github.com/afnan47/cuda.git to /tmp/pip-req-build-auuej2xh\n",
            "  Running command git clone --filter=blob:none --quiet https://github.com/afnan47/cuda.git /tmp/pip-req-build-auuej2xh\n",
            "  Resolved https://github.com/afnan47/cuda.git to commit aac710a35f52bb78ab34d2e52517237941399eff\n",
            "  Preparing metadata (setup.py) ... \u001b[?25l\u001b[?25hdone\n"
          ]
        }
      ]
    },
    {
      "cell_type": "code",
      "source": [
        "!/usr/local/cuda/bin/nvcc --version"
      ],
      "metadata": {
        "colab": {
          "base_uri": "https://localhost:8080/"
        },
        "id": "4osa_rrzfEz_",
        "outputId": "0ebfea8e-5f8b-49d3-885b-03e69fbebc6b"
      },
      "execution_count": 8,
      "outputs": [
        {
          "output_type": "stream",
          "name": "stdout",
          "text": [
            "nvcc: NVIDIA (R) Cuda compiler driver\n",
            "Copyright (c) 2005-2023 NVIDIA Corporation\n",
            "Built on Tue_Aug_15_22:02:13_PDT_2023\n",
            "Cuda compilation tools, release 12.2, V12.2.140\n",
            "Build cuda_12.2.r12.2/compiler.33191640_0\n"
          ]
        }
      ]
    },
    {
      "cell_type": "code",
      "source": [
        "%load_ext nvcc_plugin\n"
      ],
      "metadata": {
        "colab": {
          "base_uri": "https://localhost:8080/"
        },
        "id": "teupRkzBfYQy",
        "outputId": "d847f550-5cd0-4c31-f647-8a20455bfe17"
      },
      "execution_count": 9,
      "outputs": [
        {
          "output_type": "stream",
          "name": "stdout",
          "text": [
            "created output directory at /content/src\n",
            "Out bin /content/result.out\n"
          ]
        }
      ]
    },
    {
      "cell_type": "code",
      "execution_count": 16,
      "metadata": {
        "colab": {
          "base_uri": "https://localhost:8080/"
        },
        "id": "zSV7VcpIahs_",
        "outputId": "9163a847-d2b6-4a68-d383-80fc66593dcb"
      },
      "outputs": [
        {
          "output_type": "stream",
          "name": "stdout",
          "text": [
            "print vector A: 3 6 7 5 3 5 6 2 \n",
            "print vector B: 9 1 2 7 0 9 3 6 \n",
            "Addition vector is: \n",
            "12 7 9 12 3 14 9 8 \n",
            "\n"
          ]
        }
      ],
      "source": [
        "%%cu\n",
        "\n",
        "#include <bits/stdc++.h>\n",
        "using namespace std;\n",
        "\n",
        "__global__ void add(int *X, int *Y, int *Z, int size){\n",
        "\n",
        "    int tid=blockIdx.x * blockDim.x + threadIdx.x;\n",
        "    if(tid<size){\n",
        "        Z[tid]=X[tid]+Y[tid];\n",
        "    }\n",
        "}\n",
        "\n",
        "void initialize(int *arr, int n){\n",
        "    for(int i=0;i<n;i++){\n",
        "        arr[i]=rand()%10;\n",
        "    }\n",
        "}\n",
        "\n",
        "void print(int *vec, int size){\n",
        "    for(int i=0;i<size;i++){\n",
        "        cout<<vec[i]<<\" \";\n",
        "    }\n",
        "    cout<<endl;\n",
        "}\n",
        "\n",
        "int main(){\n",
        "    int *A, *B, *C;\n",
        "    int N=8;\n",
        "    int vectorsize=N;\n",
        "    size_t vectorbytes=vectorsize * sizeof(int);\n",
        "\n",
        "    A=new int[vectorsize];\n",
        "    B=new int[vectorsize];\n",
        "    C=new int[vectorsize];\n",
        "\n",
        "    initialize(A,vectorsize);\n",
        "    initialize(B,vectorsize);\n",
        "\n",
        "    cout<<\"print vector A: \";\n",
        "    print(A,N);\n",
        "    cout<<\"print vector B: \";\n",
        "    print(B,N);\n",
        "\n",
        "    int *X, *Y, *Z;\n",
        "    cudaMalloc(&X, vectorbytes);\n",
        "    cudaMalloc(&Y, vectorbytes);\n",
        "    cudaMalloc(&Z, vectorbytes);\n",
        "\n",
        "    cudaMemcpy(X,A,vectorbytes,cudaMemcpyHostToDevice);\n",
        "    cudaMemcpy(Y,B,vectorbytes,cudaMemcpyHostToDevice);\n",
        "\n",
        "    int threadsperBlock=256;\n",
        "    int blocksperGrid= (N + threadsperBlock-1) / threadsperBlock;\n",
        "\n",
        "    add<<<blocksperGrid,threadsperBlock>>>(X,Y,Z,N);\n",
        "\n",
        "    cudaMemcpy(C,Z,vectorbytes,cudaMemcpyDeviceToHost);\n",
        "\n",
        "    cout<<\"Addition vector is: \"<<endl;\n",
        "    print(C,N);\n",
        "\n",
        "    delete[] A;\n",
        "    delete[] B;\n",
        "    delete[] C;\n",
        "\n",
        "    cudaFree(X);\n",
        "    cudaFree(Y);\n",
        "    cudaFree(Z);\n",
        "\n",
        "\n",
        "\n",
        "    return 0;\n",
        "\n",
        "\n",
        "}"
      ]
    },
    {
      "cell_type": "code",
      "source": [
        "%%cu\n",
        "\n",
        "#include <bits/stdc++.h>\n",
        "using namespace std;\n",
        "\n",
        "__global__ void mul(int *X, int *Y, int *Z, int size){\n",
        "    int row=blockIdx.y * blockDim.y + threadIdx.y;\n",
        "    int col=blockIdx.x * blockDim.x + threadIdx.x;\n",
        "    if(row<size && col<size){\n",
        "        int sum=0;\n",
        "        for(int i=0;i<size;i++){\n",
        "          sum+=X[row*size+i]*Y[i*size+col];\n",
        "\n",
        "        }\n",
        "        Z[row*size+col]=sum;\n",
        "    }\n",
        "}\n",
        "\n",
        "void initialize(int *arr, int n){\n",
        "    for(int i=0;i<n*n;i++){\n",
        "          arr[i]=rand()%10;\n",
        "    }\n",
        "}\n",
        "\n",
        "void print(int *mat, int size){\n",
        "    for(int row=0;row<size;row++){\n",
        "        for(int col=0;col<size;col++){\n",
        "            cout<<mat[row * size + col]<<\" \";\n",
        "        }\n",
        "        cout<<endl;\n",
        "    }\n",
        "    cout<<endl;\n",
        "}\n",
        "\n",
        "int main(){\n",
        "    int *A, *B, *C;\n",
        "    int N=2;\n",
        "    int matsize=N*N;\n",
        "    int blockSize =  16;\n",
        "    size_t matbytes=matsize * sizeof(int);\n",
        "\n",
        "\n",
        "    A=new int[matsize];\n",
        "    B=new int[matsize];\n",
        "    C=new int[matsize];\n",
        "\n",
        "    initialize(A,N);\n",
        "    initialize(B,N);\n",
        "\n",
        "    cout<<\"print matrix A: \";\n",
        "    print(A,N);\n",
        "    cout<<\"print matrix B: \";\n",
        "    print(B,N);\n",
        "\n",
        "    int *X, *Y, *Z;\n",
        "    cudaMalloc(&X, matbytes);\n",
        "    cudaMalloc(&Y, matbytes);\n",
        "    cudaMalloc(&Z, matbytes);\n",
        "\n",
        "    cudaMemcpy(X,A,matbytes,cudaMemcpyHostToDevice);\n",
        "    cudaMemcpy(Y,B,matbytes,cudaMemcpyHostToDevice);\n",
        "\n",
        "    int THREADS=2;\n",
        "    int BLOCKS= N / THREADS;\n",
        "\n",
        "    dim3 threads(THREADS,THREADS);\n",
        "    dim3 blocks(BLOCKS,BLOCKS);\n",
        "\n",
        "\n",
        "    mul<<<blocks,threads>>>(X,Y,Z,N);\n",
        "\n",
        "    cudaMemcpy(C,Z,matbytes,cudaMemcpyDeviceToHost);\n",
        "\n",
        "    cout<<\"Multiplication matrix is: \"<<endl;\n",
        "    print(C,N);\n",
        "\n",
        "    delete[] A;\n",
        "    delete[] B;\n",
        "    delete[] C;\n",
        "\n",
        "    cudaFree(X);\n",
        "    cudaFree(Y);\n",
        "    cudaFree(Z);\n",
        "\n",
        "\n",
        "\n",
        "    return 0;\n",
        "\n",
        "\n",
        "}"
      ],
      "metadata": {
        "colab": {
          "base_uri": "https://localhost:8080/"
        },
        "id": "wSo4_qa2fDqh",
        "outputId": "01015288-4cd2-4d60-d0d0-275a4d3e6f74"
      },
      "execution_count": 23,
      "outputs": [
        {
          "output_type": "stream",
          "name": "stdout",
          "text": [
            "print matrix A: 3 6 \n",
            "7 5 \n",
            "\n",
            "print matrix B: 3 5 \n",
            "6 2 \n",
            "\n",
            "Multiplication matrix is: \n",
            "45 27 \n",
            "51 45 \n",
            "\n",
            "\n"
          ]
        }
      ]
    },
    {
      "cell_type": "code",
      "source": [],
      "metadata": {
        "id": "zGyaW5MEecVT"
      },
      "execution_count": null,
      "outputs": []
    }
  ]
}